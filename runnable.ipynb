{
 "cells": [
  {
   "cell_type": "markdown",
   "metadata": {},
   "source": [
    "# Runnable\n",
    "\n",
    "`Runnable`이란 invoked, batched, streamed, transformed and composed 될 수 있는 일의 단위이다.\n",
    "- invoke/ainvoke: 하나의 input을 output으로 변경시켜주는 메서드\n",
    "- batch/abatch: 여러 개의 input을 output으로 변경시켜주는 메서드\n",
    "- stream/astream: 결과물을 stream 해준다.\n",
    "- astream_log: 출력 및 입력에서 선택된 중간 결과를 Stream 해준다.\n",
    "\n",
    "`Runnable`을 구성하는 주요 primitive(구성 요소)는 `RunnableSequence` and `RunnableParallel`이다.\n",
    "- `RunnableSequence`는 한 `Runnable`의 결과물을 다음 과정의 input으로 사용함으로써 `Runnable`들을 순차적으로 invoke한다.\n",
    "    - | 연산자를 사용하거나 Runnable의 list를 통해서 구성한다.\n",
    "- `RunnableParallel`은 동일한 input을 여러 `Runnable`들에 전달함으로써 `Runnable`들을 동시에 invoke한다.\n",
    "    - dict 타입을 활용해서 구성한다."
   ]
  },
  {
   "cell_type": "markdown",
   "metadata": {},
   "source": [
    "# 실습"
   ]
  },
  {
   "cell_type": "markdown",
   "metadata": {},
   "source": [
    "## 1. RunnableSequence"
   ]
  },
  {
   "cell_type": "code",
   "execution_count": 3,
   "metadata": {},
   "outputs": [
    {
     "data": {
      "text/plain": [
       "4"
      ]
     },
     "execution_count": 3,
     "metadata": {},
     "output_type": "execute_result"
    }
   ],
   "source": [
    "from langchain_core.runnables import RunnableLambda\n",
    "\n",
    "# | 연산자를 통해 RunnableSequence를 구성하였다\n",
    "sequence = RunnableLambda(lambda x : x + 1) | RunnableLambda(lambda x : x * 2)\n",
    "sequence.invoke(1)"
   ]
  },
  {
   "cell_type": "markdown",
   "metadata": {},
   "source": [
    "1이 들어가서 `RunnableLambda`에 의해 1+1 연산이 먼저 이루어지고 \n",
    "\n",
    "그 결과인 2가 두번째 `RunnableLambda`의 입력값으로 들어가서 2 * 2 연산이 이루어진다.\n",
    "\n",
    "최종 결과는 4"
   ]
  },
  {
   "cell_type": "code",
   "execution_count": 2,
   "metadata": {},
   "outputs": [
    {
     "data": {
      "text/plain": [
       "[4, 6, 8]"
      ]
     },
     "execution_count": 2,
     "metadata": {},
     "output_type": "execute_result"
    }
   ],
   "source": [
    "sequence.batch([1,2,3])"
   ]
  },
  {
   "cell_type": "markdown",
   "metadata": {},
   "source": [
    "앞선 과정이 병렬적으로 동시에 일어난다."
   ]
  },
  {
   "cell_type": "markdown",
   "metadata": {},
   "source": [
    "## 2. Runnable Parallel"
   ]
  },
  {
   "cell_type": "code",
   "execution_count": 6,
   "metadata": {},
   "outputs": [
    {
     "data": {
      "text/plain": [
       "{'mul_2': 4, 'mul_5': 10}"
      ]
     },
     "execution_count": 6,
     "metadata": {},
     "output_type": "execute_result"
    }
   ],
   "source": [
    "# A sequence that contains a RunnableParallel constructed using a dict literal\n",
    "sequence = RunnableLambda(lambda x: x + 1) | {\n",
    "    'mul_2': RunnableLambda(lambda x: x * 2),\n",
    "    'mul_5': RunnableLambda(lambda x: x * 5)\n",
    "}\n",
    "sequence.invoke(1)"
   ]
  },
  {
   "cell_type": "markdown",
   "metadata": {},
   "source": [
    "위 코드는 우선 첫번째 `RunnableLambda`가 수행된 이후 2가지 `RunnableLambda`가 병렬적으로 수행된다.\n",
    "\n",
    "이런 특성을 활용하면 서로 다른 2가지 Retriever를 동시에 적용하여 문서를 검색할 수 있다.\n",
    "\n",
    "가령 lexical search(키워드 기반)와 semantic search(유사도 기반)를 따로 수행하고 검색한 문서를 기반으로 ReRanking을 수행해서 LLM의 최종 답변을 얻을 수 있다."
   ]
  },
  {
   "cell_type": "markdown",
   "metadata": {},
   "source": [
    "## 3. Runnable Method 사용하기\n",
    "\n",
    "모든 Runnable은 동작을 수정(실패시 재시도, configurable하게 만들기)하는 데 사용할 수 있는 추가 메서드가 있다."
   ]
  },
  {
   "cell_type": "code",
   "execution_count": 8,
   "metadata": {},
   "outputs": [
    {
     "name": "stdout",
     "output_type": "stream",
     "text": [
      "{'title': 'add_one_input', 'type': 'integer'}\n",
      "{'title': 'buggy_double_output', 'type': 'integer'}\n",
      "This code failed, will probably be retried\n",
      "This code failed, will probably be retried\n",
      "This code failed, will probably be retried\n",
      "6\n"
     ]
    }
   ],
   "source": [
    "from langchain_core.runnables import RunnableLambda\n",
    "\n",
    "import random\n",
    "def add_one(x: int) -> int:\n",
    "    return x + 1\n",
    "\n",
    "def buggy_double(y: int) -> int:\n",
    "    # 70%의 확률로 fail하는 buggy code\n",
    "    if random.random() > 0.3 :\n",
    "        print(\"This code failed, will probably be retried\")\n",
    "        raise ValueError(\"Triggerd Buggy Code!\")\n",
    "    return y * 2\n",
    "\n",
    "sequence = (\n",
    "    RunnableLambda(add_one) |\n",
    "    RunnableLambda(buggy_double).with_retry(    # 실패시 재시도하는 메서드\n",
    "        stop_after_attempt=10,\n",
    "        wait_exponential_jitter=False\n",
    "    )\n",
    ")\n",
    "\n",
    "print(sequence.input_schema.schema())\n",
    "print(sequence.output_schema.schema())\n",
    "print(sequence.invoke(2))"
   ]
  },
  {
   "cell_type": "markdown",
   "metadata": {},
   "source": [
    "출처 : [링크](https://api.python.langchain.com/en/latest/runnables/langchain_core.runnables.base.Runnable.html)"
   ]
  }
 ],
 "metadata": {
  "kernelspec": {
   "display_name": "sba",
   "language": "python",
   "name": "python3"
  },
  "language_info": {
   "codemirror_mode": {
    "name": "ipython",
    "version": 3
   },
   "file_extension": ".py",
   "mimetype": "text/x-python",
   "name": "python",
   "nbconvert_exporter": "python",
   "pygments_lexer": "ipython3",
   "version": "3.10.13"
  },
  "orig_nbformat": 4
 },
 "nbformat": 4,
 "nbformat_minor": 2
}
