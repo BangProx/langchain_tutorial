{
 "cells": [
  {
   "cell_type": "markdown",
   "metadata": {},
   "source": [
    "# 추출 과정에서 reference example 사용하는 법\n",
    "- 추출의 성능은 LLM에 reference example을 제공해서 향상시킬 수 있다.\n",
    "- 데이터 추출은 텍스트나 비정형 데이터 안의 정보를 구조화해서 생성한다.\n",
    "- 이런 경우에 LLM의 Tool-calling 기능이 사용된다.\n",
    "- 본 실습은 추출 및 유사한 어플리케이션 동�